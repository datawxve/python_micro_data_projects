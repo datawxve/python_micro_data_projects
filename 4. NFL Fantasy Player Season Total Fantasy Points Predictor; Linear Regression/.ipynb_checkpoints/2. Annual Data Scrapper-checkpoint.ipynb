{
 "cells": [
  {
   "cell_type": "code",
   "execution_count": null,
   "metadata": {},
   "outputs": [],
   "source": [
    "# import the necessary packages to handle urls,json files, make request and manipulate the data.\n",
    "\n",
    "from urllib.request import urlopen\n",
    "import json\n",
    "import requests\n",
    "import pandas as pd"
   ]
  },
  {
   "cell_type": "code",
   "execution_count": null,
   "metadata": {},
   "outputs": [],
   "source": [
    "# Assigning variables for the API's and turning them into json objects\n",
    "\n",
    "# ****** MUST CHANGE YEAR AND WEEK IN API ********\n",
    "\n",
    "url = 'https://api.sleeper.app/v1/stats/nfl/regular/2018'\n",
    "\n",
    "json_obj = urlopen(url)\n",
    "data = json.load(json_obj)"
   ]
  },
  {
   "cell_type": "code",
   "execution_count": null,
   "metadata": {},
   "outputs": [],
   "source": [
    "print(data)"
   ]
  },
  {
   "cell_type": "code",
   "execution_count": null,
   "metadata": {},
   "outputs": [],
   "source": [
    "# change the dictionary to a pandas dataframe for easy data manipulation\n",
    "\n",
    "new_data = pd.DataFrame(data)\n",
    "new_data"
   ]
  },
  {
   "cell_type": "code",
   "execution_count": null,
   "metadata": {},
   "outputs": [],
   "source": [
    "# visualize the transformed dataframe\n",
    "\n",
    "new_data.T"
   ]
  },
  {
   "cell_type": "code",
   "execution_count": null,
   "metadata": {},
   "outputs": [],
   "source": [
    "# transform the dataframe\n",
    "\n",
    "new_data = new_data.T"
   ]
  },
  {
   "cell_type": "code",
   "execution_count": null,
   "metadata": {},
   "outputs": [],
   "source": [
    "# size of the newly created tables size\n",
    "\n",
    "new_data.shape"
   ]
  },
  {
   "cell_type": "code",
   "execution_count": null,
   "metadata": {},
   "outputs": [],
   "source": [
    "# list the columns\n",
    "list(new_data.columns.values)"
   ]
  },
  {
   "cell_type": "code",
   "execution_count": null,
   "metadata": {},
   "outputs": [],
   "source": [
    "new_data.describe(include ='all')"
   ]
  },
  {
   "cell_type": "code",
   "execution_count": null,
   "metadata": {},
   "outputs": [],
   "source": [
    "# Inserting the year and week into the dataframe. Also naming an unnamed column.\n",
    "\n",
    "# ****** MUST CHANGE YEAR AND WEEK VARIABLES ********\n",
    "\n",
    "new_data['year']= 2018"
   ]
  },
  {
   "cell_type": "code",
   "execution_count": null,
   "metadata": {},
   "outputs": [],
   "source": [
    "list(new_data.columns)"
   ]
  },
  {
   "cell_type": "code",
   "execution_count": null,
   "metadata": {},
   "outputs": [],
   "source": [
    "# convert new dataframe to csv file for storage\n",
    "\n",
    "# ****** MUST CHANGE FILE NAME ********\n",
    "\n",
    "new_data.to_csv('2018_NFL_stats.csv', header=True)"
   ]
  }
 ],
 "metadata": {
  "kernelspec": {
   "display_name": "Python 3",
   "language": "python",
   "name": "python3"
  },
  "language_info": {
   "codemirror_mode": {
    "name": "ipython",
    "version": 3
   },
   "file_extension": ".py",
   "mimetype": "text/x-python",
   "name": "python",
   "nbconvert_exporter": "python",
   "pygments_lexer": "ipython3",
   "version": "3.7.3"
  }
 },
 "nbformat": 4,
 "nbformat_minor": 2
}
