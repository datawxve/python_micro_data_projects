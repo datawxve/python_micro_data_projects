{
 "cells": [
  {
   "cell_type": "code",
   "execution_count": 1,
   "metadata": {},
   "outputs": [],
   "source": [
    "import pandas as pd"
   ]
  },
  {
   "cell_type": "code",
   "execution_count": 2,
   "metadata": {},
   "outputs": [],
   "source": [
    "# import all data files\n",
    "\n",
    "df1 = pd.read_csv('scrapped_2018_week_1.csv')\n",
    "df1.rename( columns={'Unnamed: 0':'player'}, inplace=True )\n",
    "\n",
    "df2 = pd.read_csv('scrapped_2018_week_2.csv')\n",
    "df2.rename( columns={'Unnamed: 0':'player'}, inplace=True )\n",
    "\n",
    "df3 = pd.read_csv('scrapped_2018_week_3.csv')\n",
    "df3.rename( columns={'Unnamed: 0':'player'}, inplace=True )\n"
   ]
  },
  {
   "cell_type": "code",
   "execution_count": 3,
   "metadata": {},
   "outputs": [],
   "source": [
    "x = pd.concat([df1,df2,df3], axis = 0, join ='outer',ignore_index=False, sort=False)\n",
    "x.to_csv('master.csv')\n"
   ]
  },
  {
   "cell_type": "code",
   "execution_count": null,
   "metadata": {},
   "outputs": [],
   "source": []
  }
 ],
 "metadata": {
  "kernelspec": {
   "display_name": "Python 3",
   "language": "python",
   "name": "python3"
  },
  "language_info": {
   "codemirror_mode": {
    "name": "ipython",
    "version": 3
   },
   "file_extension": ".py",
   "mimetype": "text/x-python",
   "name": "python",
   "nbconvert_exporter": "python",
   "pygments_lexer": "ipython3",
   "version": "3.7.3"
  }
 },
 "nbformat": 4,
 "nbformat_minor": 2
}
