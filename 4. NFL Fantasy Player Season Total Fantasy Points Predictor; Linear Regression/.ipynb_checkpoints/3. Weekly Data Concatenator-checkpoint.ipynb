{
 "cells": [
  {
   "cell_type": "code",
   "execution_count": 12,
   "metadata": {},
   "outputs": [],
   "source": [
    "# import packages\n",
    "import pandas as pd"
   ]
  },
  {
   "cell_type": "code",
   "execution_count": 13,
   "metadata": {},
   "outputs": [],
   "source": [
    "# import all data files\n",
    "\n",
    "df1 = pd.read_csv('scrapped_2018_week_1.csv')\n",
    "df1.rename( columns={'Unnamed: 0':'player'}, inplace=True )\n",
    "\n",
    "df2 = pd.read_csv('scrapped_2018_week_2.csv')\n",
    "df2.rename( columns={'Unnamed: 0':'player'}, inplace=True )\n",
    "\n",
    "df3 = pd.read_csv('scrapped_2018_week_3.csv')\n",
    "df3.rename( columns={'Unnamed: 0':'player'}, inplace=True )\n",
    "\n",
    "df4 = pd.read_csv('scrapped_2018_week_4.csv')\n",
    "df4.rename( columns={'Unnamed: 0':'player'}, inplace=True )\n",
    "\n",
    "df5 = pd.read_csv('scrapped_2018_week_5.csv')\n",
    "df5.rename( columns={'Unnamed: 0':'player'}, inplace=True )\n",
    "\n",
    "df6 = pd.read_csv('scrapped_2018_week_6.csv')\n",
    "df6.rename( columns={'Unnamed: 0':'player'}, inplace=True )"
   ]
  },
  {
   "cell_type": "code",
   "execution_count": 14,
   "metadata": {},
   "outputs": [],
   "source": [
    "# print master file\n",
    "x = pd.concat([df1,df2,df3,df4,df5,df6], axis = 0, join ='outer',ignore_index=False, sort=False)\n",
    "x.to_csv('master.csv')"
   ]
  },
  {
   "cell_type": "code",
   "execution_count": null,
   "metadata": {},
   "outputs": [],
   "source": []
  }
 ],
 "metadata": {
  "kernelspec": {
   "display_name": "Python 3",
   "language": "python",
   "name": "python3"
  },
  "language_info": {
   "codemirror_mode": {
    "name": "ipython",
    "version": 3
   },
   "file_extension": ".py",
   "mimetype": "text/x-python",
   "name": "python",
   "nbconvert_exporter": "python",
   "pygments_lexer": "ipython3",
   "version": "3.7.3"
  }
 },
 "nbformat": 4,
 "nbformat_minor": 2
}
